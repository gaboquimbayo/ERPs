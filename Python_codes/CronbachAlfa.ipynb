{
 "cells": [
  {
   "cell_type": "code",
   "execution_count": 6,
   "metadata": {},
   "outputs": [
    {
     "name": "stdout",
     "output_type": "stream",
     "text": [
      "El Alfa de Cronbach es: 0.8206204106099209\n"
     ]
    }
   ],
   "source": [
    "import pandas as pd\n",
    "\n",
    "# Cargar el archivo\n",
    "file_path = '../../df_EntreItems.xlsx'\n",
    "data = pd.read_excel(file_path)\n",
    "\n",
    "# Mostrar las primeras filas del archivo para inspeccionar\n",
    "data.head()\n",
    "\n",
    "# Seleccionar las variables de interés\n",
    "# variables = [\"v_753\", \"v_754\", \"v_755\", \"v_756\", \"v_757\", \"v_758r\"]\n",
    "# variables = [\"v_606\", \"v_609\"]\n",
    "variables = ['MeanEntPassion1', 'MeanEntPassion2']\n",
    "data_selected = data[variables]\n",
    "\n",
    "# Definir función para calcular el Alfa de Cronbach\n",
    "def cronbach_alpha(df):\n",
    "    item_vars = df.var(axis=0, ddof=1)\n",
    "    total_var = df.sum(axis=1).var(ddof=1)\n",
    "    n_items = df.shape[1]\n",
    "    alpha = (n_items / (n_items - 1)) * (1 - item_vars.sum() / total_var)\n",
    "    return alpha\n",
    "\n",
    "# Calcular el Alfa de Cronbach\n",
    "alpha = cronbach_alpha(data_selected)\n",
    "print(\"El Alfa de Cronbach es:\", alpha)\n"
   ]
  }
 ],
 "metadata": {
  "kernelspec": {
   "display_name": "base",
   "language": "python",
   "name": "python3"
  },
  "language_info": {
   "codemirror_mode": {
    "name": "ipython",
    "version": 3
   },
   "file_extension": ".py",
   "mimetype": "text/x-python",
   "name": "python",
   "nbconvert_exporter": "python",
   "pygments_lexer": "ipython3",
   "version": "3.11.5"
  }
 },
 "nbformat": 4,
 "nbformat_minor": 2
}
